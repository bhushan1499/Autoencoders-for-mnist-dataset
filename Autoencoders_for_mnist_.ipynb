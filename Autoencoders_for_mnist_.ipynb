{
  "nbformat": 4,
  "nbformat_minor": 0,
  "metadata": {
    "colab": {
      "name": "Autoencoders_for_mnist .ipynb",
      "provenance": [],
      "collapsed_sections": []
    },
    "kernelspec": {
      "name": "python3",
      "display_name": "Python 3"
    },
    "accelerator": "GPU"
  },
  "cells": [
    {
      "cell_type": "code",
      "metadata": {
        "id": "VZ057C3MJVxU",
        "colab_type": "code",
        "colab": {}
      },
      "source": [
        "import pandas as pd\n",
        "import numpy as np\n",
        "import matplotlib.pyplot as plt\n",
        "import seaborn as sns"
      ],
      "execution_count": 0,
      "outputs": []
    },
    {
      "cell_type": "code",
      "metadata": {
        "id": "d_G9Dz5guAEj",
        "colab_type": "code",
        "colab": {
          "base_uri": "https://localhost:8080/",
          "height": 34
        },
        "outputId": "ed5948bb-ad8e-47d3-e558-14d953803945"
      },
      "source": [
        "%tensorflow_version 2.x"
      ],
      "execution_count": 2,
      "outputs": [
        {
          "output_type": "stream",
          "text": [
            "TensorFlow 2.x selected.\n"
          ],
          "name": "stdout"
        }
      ]
    },
    {
      "cell_type": "code",
      "metadata": {
        "id": "gKjKf2HmuI62",
        "colab_type": "code",
        "colab": {}
      },
      "source": [
        "import tensorflow as tf"
      ],
      "execution_count": 0,
      "outputs": []
    },
    {
      "cell_type": "code",
      "metadata": {
        "id": "TiKKRf2uy-Rs",
        "colab_type": "code",
        "colab": {
          "base_uri": "https://localhost:8080/",
          "height": 34
        },
        "outputId": "53031230-cc98-4e9a-e5d7-a08308e0ee8f"
      },
      "source": [
        "tf.__version__"
      ],
      "execution_count": 26,
      "outputs": [
        {
          "output_type": "execute_result",
          "data": {
            "text/plain": [
              "'2.1.0-rc1'"
            ]
          },
          "metadata": {
            "tags": []
          },
          "execution_count": 26
        }
      ]
    },
    {
      "cell_type": "code",
      "metadata": {
        "id": "XwzjRR_QJsn2",
        "colab_type": "code",
        "colab": {}
      },
      "source": [
        "from tensorflow.keras.datasets import mnist"
      ],
      "execution_count": 0,
      "outputs": []
    },
    {
      "cell_type": "code",
      "metadata": {
        "id": "K_ucAQDZJg7a",
        "colab_type": "code",
        "colab": {}
      },
      "source": [
        "(X_train,y_train),(X_test,y_test) = mnist.load_data()"
      ],
      "execution_count": 0,
      "outputs": []
    },
    {
      "cell_type": "code",
      "metadata": {
        "id": "r5vgdFYCJzAo",
        "colab_type": "code",
        "outputId": "bde61765-a034-4fcf-9668-7b119bfa5f33",
        "colab": {
          "base_uri": "https://localhost:8080/",
          "height": 282
        }
      },
      "source": [
        "plt.imshow(X_train[0])"
      ],
      "execution_count": 6,
      "outputs": [
        {
          "output_type": "execute_result",
          "data": {
            "text/plain": [
              "<matplotlib.image.AxesImage at 0x7f4322856320>"
            ]
          },
          "metadata": {
            "tags": []
          },
          "execution_count": 6
        },
        {
          "output_type": "display_data",
          "data": {
            "image/png": "[encoded data removed]",
            "text/plain": [
              "<Figure size 432x288 with 1 Axes>"
            ]
          },
          "metadata": {
            "tags": []
          }
        }
      ]
    },
    {
      "cell_type": "markdown",
      "metadata": {
        "id": "CyLjeXshKDGk",
        "colab_type": "text"
      },
      "source": [
        "**Normalizing the data**"
      ]
    },
    {
      "cell_type": "code",
      "metadata": {
        "id": "4711u2t6J79X",
        "colab_type": "code",
        "colab": {}
      },
      "source": [
        "X_train = X_train/255\n",
        "X_test = X_test/255"
      ],
      "execution_count": 0,
      "outputs": []
    },
    {
      "cell_type": "code",
      "metadata": {
        "id": "UYfK7qKSKGak",
        "colab_type": "code",
        "colab": {}
      },
      "source": [
        "from tensorflow.keras.models import Sequential\n",
        "from tensorflow.keras.layers import Dense,Flatten,Reshape\n",
        "from tensorflow.keras.optimizers import SGD"
      ],
      "execution_count": 0,
      "outputs": []
    },
    {
      "cell_type": "markdown",
      "metadata": {
        "id": "WRb09w76MoDI",
        "colab_type": "text"
      },
      "source": [
        "**Encoder Model**"
      ]
    },
    {
      "cell_type": "code",
      "metadata": {
        "id": "lwcJHweQKelT",
        "colab_type": "code",
        "colab": {}
      },
      "source": [
        "model = Sequential()\n",
        "model.add(Flatten(input_shape=[28,28]))\n",
        "model.add(Dense(units=400,activation='relu'))\n",
        "model.add(Dense(units=200,activation='relu'))\n",
        "model.add(Dense(units=100,activation='relu'))\n",
        "model.add(Dense(units=50,activation='relu'))\n",
        "model.add(Dense(units=25,activation='relu'))"
      ],
      "execution_count": 0,
      "outputs": []
    },
    {
      "cell_type": "markdown",
      "metadata": {
        "id": "uZroNycUMtsx",
        "colab_type": "text"
      },
      "source": [
        "**Decoder Model**"
      ]
    },
    {
      "cell_type": "code",
      "metadata": {
        "id": "LAJw7w69MVBG",
        "colab_type": "code",
        "colab": {}
      },
      "source": [
        "decoder = Sequential()\n",
        "decoder.add(Dense(units=50,input_shape=[25],activation='relu'))\n",
        "decoder.add(Dense(units=100,activation='relu'))\n",
        "decoder.add(Dense(units=200,activation='relu'))\n",
        "decoder.add(Dense(units=400,activation='relu'))\n",
        "decoder.add(Dense(units=784,activation='sigmoid'))\n",
        "decoder.add(Reshape([28,28]))"
      ],
      "execution_count": 0,
      "outputs": []
    },
    {
      "cell_type": "code",
      "metadata": {
        "id": "lXm-zzLgNPYS",
        "colab_type": "code",
        "colab": {}
      },
      "source": [
        "autoencoder = Sequential([model,decoder])"
      ],
      "execution_count": 0,
      "outputs": []
    },
    {
      "cell_type": "code",
      "metadata": {
        "id": "Ci4Iao-XNTz7",
        "colab_type": "code",
        "colab": {}
      },
      "source": [
        "autoencoder.compile(loss='binary_crossentropy',optimizer=SGD(lr=1.5),metrics=['accuracy'])"
      ],
      "execution_count": 0,
      "outputs": []
    },
    {
      "cell_type": "code",
      "metadata": {
        "id": "spPuzpAyPTh-",
        "colab_type": "code",
        "outputId": "90e1e984-a7c5-4f69-d6fa-897caf113e0e",
        "colab": {
          "base_uri": "https://localhost:8080/",
          "height": 221
        }
      },
      "source": [
        "autoencoder.fit(X_train,X_train,epochs=5,validation_data=(X_test,X_test))"
      ],
      "execution_count": 13,
      "outputs": [
        {
          "output_type": "stream",
          "text": [
            "Train on 60000 samples, validate on 10000 samples\n",
            "Epoch 1/5\n",
            "60000/60000 [==============================] - 7s 114us/sample - loss: 0.2551 - accuracy: 0.7915 - val_loss: 0.2218 - val_accuracy: 0.7920\n",
            "Epoch 2/5\n",
            "60000/60000 [==============================] - 6s 105us/sample - loss: 0.1989 - accuracy: 0.7960 - val_loss: 0.1829 - val_accuracy: 0.7943\n",
            "Epoch 3/5\n",
            "60000/60000 [==============================] - 6s 101us/sample - loss: 0.1650 - accuracy: 0.8014 - val_loss: 0.1555 - val_accuracy: 0.8016\n",
            "Epoch 4/5\n",
            "60000/60000 [==============================] - 6s 97us/sample - loss: 0.1519 - accuracy: 0.8032 - val_loss: 0.1479 - val_accuracy: 0.8016\n",
            "Epoch 5/5\n",
            "60000/60000 [==============================] - 6s 99us/sample - loss: 0.1431 - accuracy: 0.8052 - val_loss: 0.1382 - val_accuracy: 0.8062\n"
          ],
          "name": "stdout"
        },
        {
          "output_type": "execute_result",
          "data": {
            "text/plain": [
              "<tensorflow.python.keras.callbacks.History at 0x7f43101ad588>"
            ]
          },
          "metadata": {
            "tags": []
          },
          "execution_count": 13
        }
      ]
    },
    {
      "cell_type": "code",
      "metadata": {
        "id": "JHTpD08_Q1iR",
        "colab_type": "code",
        "colab": {}
      },
      "source": [
        "prediction = autoencoder.predict(X_test[:10])"
      ],
      "execution_count": 0,
      "outputs": []
    },
    {
      "cell_type": "markdown",
      "metadata": {
        "id": "XPMFT4dISUy_",
        "colab_type": "text"
      },
      "source": [
        "**Orignal Image**# New Section"
      ]
    },
    {
      "cell_type": "code",
      "metadata": {
        "id": "eB377yaeRNSo",
        "colab_type": "code",
        "outputId": "c2a95f23-4e35-40be-dc76-9db3ed25b8b1",
        "colab": {
          "base_uri": "https://localhost:8080/",
          "height": 282
        }
      },
      "source": [
        "plt.imshow(X_test[0])"
      ],
      "execution_count": 15,
      "outputs": [
        {
          "output_type": "execute_result",
          "data": {
            "text/plain": [
              "<matplotlib.image.AxesImage at 0x7f42fc7558d0>"
            ]
          },
          "metadata": {
            "tags": []
          },
          "execution_count": 15
        },
        {
          "output_type": "display_data",
          "data": {
            "image/png": "[encoded data removed]",
            "text/plain": [
              "<Figure size 432x288 with 1 Axes>"
            ]
          },
          "metadata": {
            "tags": []
          }
        }
      ]
    },
    {
      "cell_type": "markdown",
      "metadata": {
        "id": "A3fg018FSe6K",
        "colab_type": "text"
      },
      "source": [
        "**Reconstructed Image after passing through an autoencoder**"
      ]
    },
    {
      "cell_type": "code",
      "metadata": {
        "id": "YB0b_W3iSLIN",
        "colab_type": "code",
        "outputId": "a9f2da26-a3b6-4d17-f677-69f17aff406f",
        "colab": {
          "base_uri": "https://localhost:8080/",
          "height": 282
        }
      },
      "source": [
        "plt.imshow(prediction[0])"
      ],
      "execution_count": 16,
      "outputs": [
        {
          "output_type": "execute_result",
          "data": {
            "text/plain": [
              "<matplotlib.image.AxesImage at 0x7f42fc6c0198>"
            ]
          },
          "metadata": {
            "tags": []
          },
          "execution_count": 16
        },
        {
          "output_type": "display_data",
          "data": {
            "image/png": "[encoded data removed]",
            "text/plain": [
              "<Figure size 432x288 with 1 Axes>"
            ]
          },
          "metadata": {
            "tags": []
          }
        }
      ]
    },
    {
      "cell_type": "markdown",
      "metadata": {
        "id": "gmJq7UxAnSFx",
        "colab_type": "text"
      },
      "source": [
        "**Adding noise to the data**"
      ]
    },
    {
      "cell_type": "code",
      "metadata": {
        "id": "FE1qKB79SQKl",
        "colab_type": "code",
        "colab": {}
      },
      "source": [
        "from tensorflow.keras.layers import GaussianNoise"
      ],
      "execution_count": 0,
      "outputs": []
    },
    {
      "cell_type": "code",
      "metadata": {
        "id": "RA3_sZ1uxW5t",
        "colab_type": "code",
        "colab": {}
      },
      "source": [
        "sample = GaussianNoise(0.2)"
      ],
      "execution_count": 0,
      "outputs": []
    },
    {
      "cell_type": "code",
      "metadata": {
        "id": "SsFUllCUnrl1",
        "colab_type": "code",
        "colab": {}
      },
      "source": [
        "import tensorflow as tf\n",
        "import numpy as np"
      ],
      "execution_count": 0,
      "outputs": []
    },
    {
      "cell_type": "markdown",
      "metadata": {
        "id": "oxGPJ95-z8XS",
        "colab_type": "text"
      },
      "source": [
        "## **Autoencoders for noisy images**"
      ]
    },
    {
      "cell_type": "code",
      "metadata": {
        "id": "Qm_Ny-DkwMR0",
        "colab_type": "code",
        "colab": {}
      },
      "source": [
        "encoder = Sequential()\n",
        "encoder.add(Flatten(input_shape=[28,28]))\n",
        "# Add noise to images before going through autoencoder\n",
        "encoder.add(GaussianNoise(0.2))\n",
        "encoder.add(Dense(400,activation=\"relu\"))\n",
        "encoder.add(Dense(200,activation=\"relu\"))\n",
        "encoder.add(Dense(100,activation=\"relu\"))\n",
        "encoder.add(Dense(50,activation=\"relu\"))\n",
        "encoder.add(Dense(25,activation=\"relu\"))"
      ],
      "execution_count": 0,
      "outputs": []
    },
    {
      "cell_type": "code",
      "metadata": {
        "id": "OuLEJyx-weDt",
        "colab_type": "code",
        "colab": {}
      },
      "source": [
        "decoder = Sequential()\n",
        "decoder.add(Dense(50,input_shape=[25],activation='relu'))\n",
        "decoder.add(Dense(100,activation='relu'))\n",
        "decoder.add(Dense(200,activation='relu'))\n",
        "decoder.add(Dense(400,activation='relu'))\n",
        "decoder.add(Dense(28 * 28, activation=\"sigmoid\"))\n",
        "decoder.add(Reshape([28, 28]))"
      ],
      "execution_count": 0,
      "outputs": []
    },
    {
      "cell_type": "code",
      "metadata": {
        "id": "gw4wTUaVwjxn",
        "colab_type": "code",
        "colab": {}
      },
      "source": [
        "noise_remover = Sequential([encoder, decoder])"
      ],
      "execution_count": 0,
      "outputs": []
    },
    {
      "cell_type": "code",
      "metadata": {
        "id": "4iif9jg-wqNN",
        "colab_type": "code",
        "colab": {}
      },
      "source": [
        "noise_remover.compile(loss=\"binary_crossentropy\", optimizer='adam',metrics=['accuracy'])"
      ],
      "execution_count": 0,
      "outputs": []
    },
    {
      "cell_type": "code",
      "metadata": {
        "id": "q-2Dzx2Cwu5k",
        "colab_type": "code",
        "colab": {
          "base_uri": "https://localhost:8080/",
          "height": 323
        },
        "outputId": "60e6244f-a8bf-4b55-a2d1-ca66f651275a"
      },
      "source": [
        "noise_remover.fit(X_train, X_train, epochs=8,\n",
        "                           validation_data=[X_test, X_test])"
      ],
      "execution_count": 24,
      "outputs": [
        {
          "output_type": "stream",
          "text": [
            "Train on 60000 samples, validate on 10000 samples\n",
            "Epoch 1/8\n",
            "60000/60000 [==============================] - 7s 111us/sample - loss: 0.1690 - accuracy: 0.8009 - val_loss: 0.1327 - val_accuracy: 0.8051\n",
            "Epoch 2/8\n",
            "60000/60000 [==============================] - 6s 105us/sample - loss: 0.1295 - accuracy: 0.8079 - val_loss: 0.1202 - val_accuracy: 0.8084\n",
            "Epoch 3/8\n",
            "60000/60000 [==============================] - 6s 103us/sample - loss: 0.1207 - accuracy: 0.8096 - val_loss: 0.1151 - val_accuracy: 0.8101\n",
            "Epoch 4/8\n",
            "60000/60000 [==============================] - 6s 103us/sample - loss: 0.1154 - accuracy: 0.8105 - val_loss: 0.1090 - val_accuracy: 0.8101\n",
            "Epoch 5/8\n",
            "60000/60000 [==============================] - 6s 103us/sample - loss: 0.1118 - accuracy: 0.8111 - val_loss: 0.1070 - val_accuracy: 0.8110\n",
            "Epoch 6/8\n",
            "60000/60000 [==============================] - 6s 104us/sample - loss: 0.1093 - accuracy: 0.8115 - val_loss: 0.1046 - val_accuracy: 0.8113\n",
            "Epoch 7/8\n",
            "60000/60000 [==============================] - 6s 104us/sample - loss: 0.1072 - accuracy: 0.8118 - val_loss: 0.1026 - val_accuracy: 0.8116\n",
            "Epoch 8/8\n",
            "60000/60000 [==============================] - 6s 103us/sample - loss: 0.1056 - accuracy: 0.8120 - val_loss: 0.1015 - val_accuracy: 0.8118\n"
          ],
          "name": "stdout"
        },
        {
          "output_type": "execute_result",
          "data": {
            "text/plain": [
              "<tensorflow.python.keras.callbacks.History at 0x7f42fc5e1940>"
            ]
          },
          "metadata": {
            "tags": []
          },
          "execution_count": 24
        }
      ]
    },
    {
      "cell_type": "code",
      "metadata": {
        "id": "93XiPKn5w0hY",
        "colab_type": "code",
        "colab": {
          "base_uri": "https://localhost:8080/",
          "height": 139
        },
        "outputId": "8177b6da-2e2a-47a0-bff3-733d6da2fb6d"
      },
      "source": [
        "ten_noisey_images = sample(X_test[0:10],training=True)\n",
        "denoised = noise_remover(ten_noisey_images[0:10])"
      ],
      "execution_count": 25,
      "outputs": [
        {
          "output_type": "stream",
          "text": [
            "WARNING:tensorflow:Layer gaussian_noise is casting an input tensor from dtype float64 to the layer's dtype of float32, which is new behavior in TensorFlow 2.  The layer has dtype float32 because it's dtype defaults to floatx.\n",
            "\n",
            "If you intended to run this layer in float32, you can safely ignore this warning. If in doubt, this warning is likely only an issue if you are porting a TensorFlow 1.X model to TensorFlow 2.\n",
            "\n",
            "To change all layers to have dtype float64 by default, call `tf.keras.backend.set_floatx('float64')`. To change just this layer, pass dtype='float64' to the layer constructor. If you are the author of this layer, you can disable autocasting by passing autocast=False to the base Layer constructor.\n",
            "\n"
          ],
          "name": "stdout"
        }
      ]
    },
    {
      "cell_type": "code",
      "metadata": {
        "id": "fUeIQbsZxdDT",
        "colab_type": "code",
        "colab": {
          "base_uri": "https://localhost:8080/",
          "height": 812
        },
        "outputId": "040691be-2f59-497f-e332-3e2be9520fdc"
      },
      "source": [
        "n = 1\n",
        "print(\"The Original\")\n",
        "plt.imshow(X_test[n])\n",
        "plt.show()\n",
        "print(\"The Noisey Version\")\n",
        "plt.imshow(ten_noisey_images[n])\n",
        "plt.show()\n",
        "print(\"After going through denoiser\")\n",
        "plt.imshow(denoised[n])\n",
        "plt.show()"
      ],
      "execution_count": 27,
      "outputs": [
        {
          "output_type": "stream",
          "text": [
            "The Original\n"
          ],
          "name": "stdout"
        },
        {
          "output_type": "display_data",
          "data": {
            "image/png": "[encoded data removed]",
            "text/plain": [
              "<Figure size 432x288 with 1 Axes>"
            ]
          },
          "metadata": {
            "tags": []
          }
        },
        {
          "output_type": "stream",
          "text": [
            "The Noisey Version\n"
          ],
          "name": "stdout"
        },
        {
          "output_type": "display_data",
          "data": {
            "image/png": "[encoded data removed]",
            "text/plain": [
              "<Figure size 432x288 with 1 Axes>"
            ]
          },
          "metadata": {
            "tags": []
          }
        },
        {
          "output_type": "stream",
          "text": [
            "After going through denoiser\n"
          ],
          "name": "stdout"
        },
        {
          "output_type": "display_data",
          "data": {
            "image/png": "[encoded data removed]",
            "text/plain": [
              "<Figure size 432x288 with 1 Axes>"
            ]
          },
          "metadata": {
            "tags": []
          }
        }
      ]
    },
    {
      "cell_type": "code",
      "metadata": {
        "id": "5Yn28qhMzeQr",
        "colab_type": "code",
        "colab": {}
      },
      "source": [
        ""
      ],
      "execution_count": 0,
      "outputs": []
    }
  ]
}